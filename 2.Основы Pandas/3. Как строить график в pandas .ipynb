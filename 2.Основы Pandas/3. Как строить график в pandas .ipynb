{
 "cells": [
  {
   "cell_type": "code",
   "execution_count": null,
   "metadata": {},
   "outputs": [],
   "source": [
    "import pandas as pd\n",
    "\n",
    "import matplotlib.pyplot as plt"
   ]
  },
  {
   "cell_type": "markdown",
   "metadata": {},
   "source": [
    "Для этого урока используются данные о качестве воздуха (наличие оксида озота в атмосфере). \n",
    "\n",
    "<img src=\"https://openaq.org/assets/graphics/meta/default-meta-image.png\" height=\"300px\" width=\"500px\">\n",
    "\n",
    "[Источник данных](https://openaq.org), для получения используется модуль [py-openaq](http://dhhagan.github.io/py-openaq/index.html).\n",
    "\n",
    "Набор данных `air_quality_no2.csv` содержит значения оксида озота ($NO_2$) для измерительных станций `FR04014`, `BETR801` и `London Westminster` соответственно в Париже, Антверпене и Лондоне.\n",
    "\n",
    "В России сведения не собирают, см. [карту](https://openaq.org/#/map?_k=6k578s)"
   ]
  },
  {
   "cell_type": "code",
   "execution_count": null,
   "metadata": {},
   "outputs": [],
   "source": [
    "url = \"./data/air_quality_no2.csv\""
   ]
  },
  {
   "cell_type": "code",
   "execution_count": null,
   "metadata": {},
   "outputs": [],
   "source": [
    "air_quality = pd.read_csv(url,\n",
    "                          index_col=0, \n",
    "                          parse_dates=True)\n",
    "air_quality.head()"
   ]
  },
  {
   "cell_type": "markdown",
   "metadata": {},
   "source": [
    "Использование параметров `index_col` и `parse_dates` функции `read_csv` для определения первого (0-го) столбца в качестве индекса `DataFrame` и преобразование значений индекса в объекты типа [`Timestamp`](https://pandas.pydata.org/pandas-docs/stable/reference/api/pandas.Timestamp.html#pandas.Timestamp) соотвественно."
   ]
  },
  {
   "cell_type": "markdown",
   "metadata": {},
   "source": [
    "<img src=\"https://pandas.pydata.org/docs/_images/04_plot_overview.svg\" >"
   ]
  },
  {
   "cell_type": "markdown",
   "metadata": {},
   "source": [
    "Я хочу быстро получить визуальное представление данных:"
   ]
  },
  {
   "cell_type": "code",
   "execution_count": null,
   "metadata": {},
   "outputs": [],
   "source": [
    "air_quality.plot();"
   ]
  },
  {
   "cell_type": "markdown",
   "metadata": {},
   "source": [
    "По умолчанию создается один линейный график для каждого из столбцов таблицы с числовыми данными."
   ]
  },
  {
   "cell_type": "markdown",
   "metadata": {},
   "source": [
    "Я хочу построить график только для столбцов с данными из Парижа:"
   ]
  },
  {
   "cell_type": "code",
   "execution_count": null,
   "metadata": {},
   "outputs": [],
   "source": [
    "air_quality[\"station_paris\"].plot();"
   ]
  },
  {
   "cell_type": "markdown",
   "metadata": {},
   "source": [
    "Чтобы построить график для конкретного столбца таблицы, используйте методы выбора данных подмножеств в сочетании с методом [`plot()`](https://pandas.pydata.org/pandas-docs/stable/reference/api/pandas.DataFrame.plot.html#pandas.DataFrame.plot). \n",
    "\n",
    "`plot()` работает для `Series` и `DataFrame`."
   ]
  },
  {
   "cell_type": "markdown",
   "metadata": {},
   "source": [
    "Я хочу визуально сопоставить значения $NO_2$ в Лондоне и Парижа."
   ]
  },
  {
   "cell_type": "code",
   "execution_count": null,
   "metadata": {},
   "outputs": [],
   "source": [
    "# https://matplotlib.org/3.2.1/api/_as_gen/matplotlib.pyplot.scatter.html\n",
    "\n",
    "air_quality.plot.scatter(x=\"station_london\",\n",
    "                         y=\"station_paris\",\n",
    "                         alpha=0.5); "
   ]
  },
  {
   "cell_type": "markdown",
   "metadata": {},
   "source": [
    "Помимо линейного графика по умолчанию при использовании функции `plot` существует ряд альтернатив. \n",
    "\n",
    "Давайте используем стандартный Python, чтобы получить обзор доступных методов для построения графика:"
   ]
  },
  {
   "cell_type": "code",
   "execution_count": null,
   "metadata": {},
   "outputs": [],
   "source": [
    "[method_name for method_name in dir(air_quality.plot) if not method_name.startswith(\"_\")]"
   ]
  },
  {
   "cell_type": "markdown",
   "metadata": {},
   "source": [
    "В `jupyter notebook` используйте кнопку `TAB`, чтобы получить обзор доступных методов, например `air_quality.plot.+ TAB`."
   ]
  },
  {
   "cell_type": "markdown",
   "metadata": {},
   "source": [
    "Пример [`DataFrame.plot.box()`](https://pandas.pydata.org/pandas-docs/stable/reference/api/pandas.DataFrame.plot.box.html#pandas.DataFrame.plot.box):"
   ]
  },
  {
   "cell_type": "code",
   "execution_count": null,
   "metadata": {},
   "outputs": [],
   "source": [
    "air_quality.plot.box();"
   ]
  },
  {
   "cell_type": "markdown",
   "metadata": {},
   "source": [
    "Для ознакомления с графиками, отличными от линейного, см. [Раздел руководства пользователя о поддерживаемых стилях графиков](https://pandas.pydata.org/pandas-docs/stable/user_guide/visualization.html#visualization-other)."
   ]
  },
  {
   "cell_type": "markdown",
   "metadata": {},
   "source": [
    "Я хочу, чтобы каждый из столбцов отображался в отдельном графике:"
   ]
  },
  {
   "cell_type": "code",
   "execution_count": null,
   "metadata": {},
   "outputs": [],
   "source": [
    "axs = air_quality.plot.area(figsize=(12, 4), subplots=True)"
   ]
  },
  {
   "cell_type": "markdown",
   "metadata": {},
   "source": [
    "Отдельные подграфики для каждого из столбцов данных поддерживаются аргументом `subplots` функции `plot`."
   ]
  },
  {
   "cell_type": "markdown",
   "metadata": {},
   "source": [
    "Некоторые дополнительные параметры форматирования описаны в разделе [руководства пользователя по форматированию графиков](https://pandas.pydata.org/pandas-docs/stable/user_guide/visualization.html#visualization-formatting)."
   ]
  },
  {
   "cell_type": "markdown",
   "metadata": {},
   "source": [
    "Я хочу дополнительно настроить, расширить или сохранить полученный график:"
   ]
  },
  {
   "cell_type": "code",
   "execution_count": null,
   "metadata": {},
   "outputs": [],
   "source": [
    "fig, axs = plt.subplots(figsize=(12, 4)); \n",
    "air_quality.plot.area(ax=axs); \n",
    "axs.set_ylabel(\"NO$_2$ concentration\"); \n",
    "fig.savefig(\"no2_concentrations.png\")  "
   ]
  },
  {
   "cell_type": "markdown",
   "metadata": {},
   "source": [
    "Каждый из графических объектов, созданных `pandas`, является объектом [`matplotlib`](https://matplotlib.org/). Поскольку `Matplotlib` предоставляет множество опций для настройки графиков, прямая связь между `pandas` и `Matplotlib` позволяет использовать всю мощь `matplotlib` для графика. "
   ]
  },
  {
   "cell_type": "code",
   "execution_count": null,
   "metadata": {},
   "outputs": [],
   "source": []
  }
 ],
 "metadata": {
  "kernelspec": {
   "display_name": "Python 3.8.5 64-bit",
   "language": "python",
   "name": "python3"
  },
  "language_info": {
   "codemirror_mode": {
    "name": "ipython",
    "version": 3
   },
   "file_extension": ".py",
   "mimetype": "text/x-python",
   "name": "python",
   "nbconvert_exporter": "python",
   "pygments_lexer": "ipython3",
   "version": "3.8.5"
  },
  "vscode": {
   "interpreter": {
    "hash": "54bcd20706014be78591816f36bd2584159a9944126a8c4be89c37c7e1998045"
   }
  },
  "widgets": {
   "application/vnd.jupyter.widget-state+json": {
    "state": {},
    "version_major": 2,
    "version_minor": 0
   }
  }
 },
 "nbformat": 4,
 "nbformat_minor": 4
}
