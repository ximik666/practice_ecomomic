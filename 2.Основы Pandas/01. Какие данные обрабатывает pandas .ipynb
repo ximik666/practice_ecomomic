{
 "cells": [
  {
   "cell_type": "markdown",
   "metadata": {},
   "source": [
    "Для работы с данными необходимо установить библиотеку pandas.\n",
    "Для этого нужно выполнить следующую ячейку с кодом ниже."
   ]
  },
  {
   "cell_type": "code",
   "execution_count": null,
   "metadata": {},
   "outputs": [],
   "source": [
    "!pip install pandas"
   ]
  },
  {
   "cell_type": "markdown",
   "metadata": {},
   "source": [
    "Импортируем модуль `pandas`:"
   ]
  },
  {
   "cell_type": "code",
   "execution_count": null,
   "metadata": {},
   "outputs": [],
   "source": [
    "import pandas as pd"
   ]
  },
  {
   "cell_type": "markdown",
   "metadata": {},
   "source": [
    "В основе работы `pandas` лежит табличное представление данных:\n",
    "\n",
    "<img src=\"https://pandas.pydata.org/docs/_images/01_table_dataframe.svg\">"
   ]
  },
  {
   "cell_type": "markdown",
   "metadata": {},
   "source": [
    "В качестве примера рассмотрим данные о пассажирах Титаника. \n",
    "\n",
    "<img src=\"https://avatars.mds.yandex.net/get-kinopoisk-post-img/1374145/6aae47e9a525adfb3c9c433be10e62df/1920x1080\" height=\"300px\" width=\"500px\" >\n",
    "\n",
    "Для ряда пассажиров я знаю имя (символы), возраст (целые числа) и пол (мужской / женский)."
   ]
  },
  {
   "cell_type": "code",
   "execution_count": null,
   "metadata": {},
   "outputs": [],
   "source": [
    "df = pd.DataFrame({\n",
    "            \"Name\": [\"Braund, Mr. Owen Harris\",\n",
    "                     \"Allen, Mr. William Henry\",\n",
    "                     \"Bonnell, Miss. Elizabeth\"],\n",
    "             \"Age\": [22, 35, 58],\n",
    "             \"Sex\": [\"male\", \"male\", \"female\"]}\n",
    "                )"
   ]
  },
  {
   "cell_type": "code",
   "execution_count": null,
   "metadata": {},
   "outputs": [],
   "source": [
    "df"
   ]
  },
  {
   "cell_type": "markdown",
   "metadata": {},
   "source": [
    "Полученная структура данных называется [`DataFrame`](https://pandas.pydata.org/pandas-docs/stable/reference/api/pandas.DataFrame.html#pandas.DataFrame).\n",
    "\n",
    "Напоминает обычные таблицы:"
   ]
  },
  {
   "cell_type": "markdown",
   "metadata": {},
   "source": [
    "<img src=\"https://pandas.pydata.org/pandas-docs/stable/_images/01_table_spreadsheet.png\" height=\"200px\" width=\"400px\" >"
   ]
  },
  {
   "cell_type": "markdown",
   "metadata": {},
   "source": [
    "Каждый столбец в структуре `DataFrame` является типом [`Series`](https://pandas.pydata.org/pandas-docs/stable/reference/api/pandas.Series.html#pandas.Series):\n",
    "\n",
    "<img src=\"https://pandas.pydata.org/pandas-docs/stable/_images/01_table_series.svg\">"
   ]
  },
  {
   "cell_type": "markdown",
   "metadata": {},
   "source": [
    "Выбрать столбец из таблицы: "
   ]
  },
  {
   "cell_type": "code",
   "execution_count": null,
   "metadata": {},
   "outputs": [],
   "source": [
    "df[\"Age\"]"
   ]
  },
  {
   "cell_type": "markdown",
   "metadata": {},
   "source": [
    "Внешне очень напоминает питоновский [словарь](https://docs.python.org/3/tutorial/datastructures.html#tut-dictionaries)."
   ]
  },
  {
   "cell_type": "markdown",
   "metadata": {},
   "source": [
    "Вы также можете создать `Series` с нуля:"
   ]
  },
  {
   "cell_type": "code",
   "execution_count": null,
   "metadata": {},
   "outputs": [],
   "source": [
    "ages = pd.Series([22, 35, 58], name=\"Age\")"
   ]
  },
  {
   "cell_type": "code",
   "execution_count": null,
   "metadata": {},
   "outputs": [],
   "source": [
    "ages"
   ]
  },
  {
   "cell_type": "markdown",
   "metadata": {},
   "source": [
    "### Сделайте что-нибудь с DataFrame или Series"
   ]
  },
  {
   "cell_type": "markdown",
   "metadata": {},
   "source": [
    "Я хочу узнать максимальный возраст пассажиров, применив функцию `max()` к столбцу таблицы:"
   ]
  },
  {
   "cell_type": "code",
   "execution_count": null,
   "metadata": {},
   "outputs": [],
   "source": [
    "df[\"Age\"].max()"
   ]
  },
  {
   "cell_type": "markdown",
   "metadata": {},
   "source": [
    "или к типу данных `Series`:"
   ]
  },
  {
   "cell_type": "code",
   "execution_count": null,
   "metadata": {},
   "outputs": [],
   "source": [
    "ages.max()"
   ]
  },
  {
   "cell_type": "markdown",
   "metadata": {},
   "source": [
    "Помимо поиска максимального в `pandas` существует [большой набор функций](https://pandas.pydata.org/docs/user_guide/basics.html?highlight=describe#descriptive-statistics)."
   ]
  },
  {
   "cell_type": "markdown",
   "metadata": {},
   "source": [
    "Если интересует некоторая базовая статистика числовых данных:"
   ]
  },
  {
   "cell_type": "code",
   "execution_count": null,
   "metadata": {},
   "outputs": [],
   "source": [
    "df.describe()"
   ]
  },
  {
   "cell_type": "markdown",
   "metadata": {},
   "source": [
    "[`describe()`](https://pandas.pydata.org/docs/user_guide/basics.html?highlight=describe#summarizing-data-describe) метод обеспечивает краткий обзор численных данных в `DataFrame`. \n",
    "\n",
    "Так как столбцы `Name` и `Sex` состоят из текстовых данных, то они не учитываются в `describe()`.\n",
    "\n",
    "Многие операции в `pandas` возвращают `DataFrame` или `Series`. "
   ]
  },
  {
   "cell_type": "markdown",
   "metadata": {},
   "source": [
    "### Задание (необходимо показать преподавателю)\n",
    "\n",
    "1. Необходимо создать dataframe  students с 10 студентам вашей группы, где будет хранится имя, возраст, средний балл по успеваемости.\n",
    "2. Вывести максимальный (max), средний (mean), минимальные (min) возраст студентов и балл по успеваемости и базовую статистику числовых данных."
   ]
  },
  {
   "cell_type": "code",
   "execution_count": null,
   "metadata": {},
   "outputs": [],
   "source": [
    "# код пишешь здесь"
   ]
  }
 ],
 "metadata": {
  "kernelspec": {
   "display_name": "Python 3.8.5 64-bit",
   "language": "python",
   "name": "python3"
  },
  "language_info": {
   "codemirror_mode": {
    "name": "ipython",
    "version": 3
   },
   "file_extension": ".py",
   "mimetype": "text/x-python",
   "name": "python",
   "nbconvert_exporter": "python",
   "pygments_lexer": "ipython3",
   "version": "3.8.5"
  },
  "vscode": {
   "interpreter": {
    "hash": "54bcd20706014be78591816f36bd2584159a9944126a8c4be89c37c7e1998045"
   }
  },
  "widgets": {
   "application/vnd.jupyter.widget-state+json": {
    "state": {},
    "version_major": 2,
    "version_minor": 0
   }
  }
 },
 "nbformat": 4,
 "nbformat_minor": 4
}
