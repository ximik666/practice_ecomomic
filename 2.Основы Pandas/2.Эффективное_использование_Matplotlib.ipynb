{
  "cells": [
    {
      "cell_type": "markdown",
      "metadata": {
        "id": "VleLceAW6mfc"
      },
      "source": [
        "# Эффективное использование Matplotlib\n"
      ]
    },
    {
      "cell_type": "markdown",
      "metadata": {
        "id": "ZRDrhCRl6mfe"
      },
      "source": [
        "## Зачем использовать matplotlib?\n",
        "\n",
        "Несмотря на некоторые из этих проблем *matplotlib* чрезвычайно мощный инструмент. Библиотека позволяет создавать практически любую визуализацию, которую вы только можете себе представить. Кроме того, вокруг нее построена обширная экосистема инструментов *Python*, и многие из более продвинутых инструментов визуализации используют *matplotlib* в качестве базовой библиотеки. Если вы работаете в стеке науки о данных *Python*, вам необходимо получить базовые знания о том, как использовать *matplotlib*. \n",
        "\n",
        "## Основные предпосылки\n",
        "\n",
        "Рекомендую следующие шаги для изучения того, как использовать *matplotlib*:\n",
        "\n",
        "1. Изучите основную терминологию *matplotlib*, в частности, что такое `Figure` (фигура) и `Axes` (оси).\n",
        "2. Всегда используйте объектно-ориентированный интерфейс. Возьмите за привычку использовать его с самого начала анализа.\n",
        "3. Начните свои визуализации с простых графиков (*plotting*) в *pandas*.\n",
        "4. Используйте *seaborn* для более сложных статистических визуализаций.\n",
        "5. Используйте *matplotlib* для настройки визуализации *pandas* или *seaborn*.\n",
        "\n",
        "Следующий рисунок из [часто задаваемых вопросов о *matplotlib*](https://matplotlib.org/faq/usage_faq.html) - золотой. Держите его под рукой, чтобы понимать  терминологию графика (*plot*).\n",
        "\n",
        "![](https://github.com/dm-fedorov/pandas_basic/blob/master/pic/matplotlib-anatomy.png?raw=True)"
      ]
    },
    {
      "cell_type": "markdown",
      "metadata": {
        "id": "buaui7h56mff"
      },
      "source": [
        "Большинство терминов просты, но главное помнить, что `Figure` - это окончательное изображение, которое может содержать `1` или более *осей* (*axes*). \n",
        "\n",
        "`Axes` (оси) представляют собой отдельный график (*plot*). Как только вы поймете, что это такое и как получить к ним доступ через *объектно-ориентированный API*, остальная часть процесса станет на свои места.\n",
        "\n",
        "Другое преимущество этих знаний состоит в том, что у вас есть отправная точка, когда вы встречаете код в сети. \n",
        "\n",
        "Наконец, я не говорю, что вам следует избегать других хороших вариантов, таких как `ggplot` (aka `ggpy`), `bokeh`, `plotly` или `altair`. Я просто думаю, что для начала вам понадобится базовое понимание `matplotlib + pandas + seaborn`. Поняв базовый стек визуализации, вы сможете изучить другие варианты и сделать осознанный выбор в зависимости от ваших потребностей."
      ]
    },
    {
      "cell_type": "markdown",
      "metadata": {
        "id": "IFlr7zvh6mfh"
      },
      "source": [
        "## Начнем\n",
        "\n",
        "Остальная часть этого поста является руководством по созданию базовой визуализации в *pandas* и настройке наиболее распространенных элементов с помощью *matplotlib*. \n",
        "\n",
        "Я сосредоточился на наиболее распространенных задачах построения графиков, с которыми я сталкиваюсь, таких как маркировка осей (*labeling axes*), настройка пределов (*limits*), обновление заголовков графиков (*plot titles*), сохранение фигур (*figures*) и корректировка легенд (*legends*). \n",
        "\n",
        "Для начала я собираюсь настроить импорт и прочитать данные о продажах:"
      ]
    },
    {
      "cell_type": "code",
      "execution_count": null,
      "metadata": {
        "id": "sVMOTBb-6mfh"
      },
      "outputs": [],
      "source": [
        "import pandas as pd\n",
        "import matplotlib.pyplot as plt\n",
        "from matplotlib.ticker import FuncFormatter\n",
        "\n",
        "%matplotlib inline"
      ]
    },
    {
      "cell_type": "code",
      "execution_count": null,
      "metadata": {
        "id": "gYEHxO766mfi"
      },
      "outputs": [],
      "source": [
        "df = pd.read_excel(\"./data/sample-salesv3.xlsx\")\n",
        "df.head()"
      ]
    },
    {
      "cell_type": "markdown",
      "metadata": {
        "id": "CimjyRbW6mfi"
      },
      "source": [
        "Данные состоят из транзакций продаж за `2014` год. \n",
        "\n",
        "Чтобы сделать этот пост немного короче, я собираюсь обобщить данные, чтобы мы могли увидеть общее количество покупок и общие продажи для `10` крупнейших клиентов. \n",
        "\n",
        "Я также собираюсь переименовать столбцы для наглядности при построении графиков."
      ]
    },
    {
      "cell_type": "code",
      "execution_count": null,
      "metadata": {
        "id": "LbUbaP7n6mfj"
      },
      "outputs": [],
      "source": [
        "top_10 = (df.groupby('name')[['ext price', 'quantity']].agg({'ext price': 'sum', 'quantity': 'count'})\n",
        "          .sort_values(by='ext price', ascending=False))[:10].reset_index()"
      ]
    },
    {
      "cell_type": "code",
      "execution_count": null,
      "metadata": {
        "id": "fph7Hqyd6mfk"
      },
      "outputs": [],
      "source": [
        "top_10.rename(columns={'name':'Name', \n",
        "                       'ext price':'Sales', \n",
        "                       'quantity':'Purchases'}, \n",
        "              inplace=True)"
      ]
    },
    {
      "cell_type": "markdown",
      "metadata": {
        "id": "qvoQDpxM6mfk"
      },
      "source": [
        "Вот как выглядят данные:"
      ]
    },
    {
      "cell_type": "code",
      "execution_count": null,
      "metadata": {
        "id": "g551TNd66mfk"
      },
      "outputs": [],
      "source": [
        "top_10"
      ]
    },
    {
      "cell_type": "markdown",
      "metadata": {
        "id": "CVHXeCvw6mfl"
      },
      "source": [
        "Теперь, когда данные отформатированы в виде простой таблицы, давайте поговорим о представлении этих результатов в виде гистограммы (*bar chart*).\n",
        "\n",
        "Как я упоминал ранее, у *matplotlib* есть много разных стилей, доступных для отображения графиков (*plots*). Вы можете увидеть, какие из них доступны в вашей системе, используя `plt.style.available`:"
      ]
    },
    {
      "cell_type": "code",
      "execution_count": null,
      "metadata": {
        "id": "BZRnYqVn6mfl"
      },
      "outputs": [],
      "source": [
        "plt.style.available"
      ]
    },
    {
      "cell_type": "markdown",
      "metadata": {
        "id": "FWEkdj8w6mfl"
      },
      "source": [
        "Использовать стиль просто:"
      ]
    },
    {
      "cell_type": "code",
      "execution_count": null,
      "metadata": {
        "id": "K0xYPWM86mfm"
      },
      "outputs": [],
      "source": [
        "plt.style.use('ggplot')"
      ]
    },
    {
      "cell_type": "markdown",
      "metadata": {
        "id": "1RXh1eGr6mfm"
      },
      "source": [
        "Призываю вас поиграть с разными стилями и посмотреть, какие из них вам понравятся. \n",
        "\n",
        "Теперь, когда у нас есть более красивый стиль, первым делом нужно построить график данных с помощью стандартной функции построения (*plotting*) в *pandas*:"
      ]
    },
    {
      "cell_type": "code",
      "execution_count": null,
      "metadata": {
        "id": "lcVLksE36mfm"
      },
      "outputs": [],
      "source": [
        "top_10.plot(kind='barh', y=\"Sales\", x=\"Name\")"
      ]
    },
    {
      "cell_type": "markdown",
      "metadata": {
        "id": "wSwk2uv56mfm"
      },
      "source": [
        "Причина, по которой я рекомендую в первую очередь использовать построение (*plotting*) в *pandas*, заключается в том, что это быстрый и простой способ прототипирования визуализации. \n",
        "\n",
        "## Настройка графика\n",
        "\n",
        "Предполагая, что вы понимаете суть графика, следующим шагом будет его настройка. \n",
        "\n",
        "Некоторые настройки (например, добавление заголовков и меток) очень просты в функции *plot*. Однако в какой-то момент вам, вероятно, придется выйти за рамки этой функциональности. \n",
        "\n",
        "Вот почему я рекомендую выработать привычку делать следующее:"
      ]
    },
    {
      "cell_type": "code",
      "execution_count": null,
      "metadata": {
        "id": "qunLUxxE6mfn"
      },
      "outputs": [],
      "source": [
        "fig, ax = plt.subplots()\n",
        "top_10.plot(kind='barh', y=\"Sales\", x=\"Name\", ax=ax)"
      ]
    },
    {
      "cell_type": "markdown",
      "metadata": {
        "id": "DqvMtIBa6mfn"
      },
      "source": [
        "Результирующий график выглядит точно так же, как и оригинальный, но мы добавили дополнительный вызов `plt.subplots()` и передали `ax` функции построения графика. \n",
        "\n",
        "Зачем это делать? Помните, я сказал, что очень важно получить доступ к *осям* (*axes*) и *фигурам* (*figures*) в *matplotlib*? Вот чего мы здесь добились. Любая дальнейшая настройка будет выполняться с помощью объектов `ax` или `fig`.\n",
        "\n",
        "Теперь у нас есть преимущества графиков *pandas* и доступ ко всей мощи *matplotlib*. \n",
        "\n",
        "Предположим, мы хотим настроить пределы `x` и изменить метки некоторых осей? Теперь, когда у нас есть оси в переменной `ax`, появилось множество возможностей для управления:"
      ]
    },
    {
      "cell_type": "code",
      "execution_count": null,
      "metadata": {
        "id": "-AJWYNEA6mfn"
      },
      "outputs": [],
      "source": [
        "fig, ax = plt.subplots()\n",
        "top_10.plot(kind='barh', y=\"Sales\", x=\"Name\", ax=ax)\n",
        "ax.set_xlim([-10000, 140000])\n",
        "ax.set_xlabel('Total Revenue')\n",
        "ax.set_ylabel('Customer');"
      ]
    },
    {
      "cell_type": "markdown",
      "metadata": {
        "id": "3AwqEe7e6mfo"
      },
      "source": [
        "Вот еще один прием, который мы можем использовать для изменения заголовка и обеих меток:"
      ]
    },
    {
      "cell_type": "code",
      "execution_count": null,
      "metadata": {
        "id": "tmSSsrJP6mfo"
      },
      "outputs": [],
      "source": [
        "fig, ax = plt.subplots()\n",
        "top_10.plot(kind='barh', y=\"Sales\", x=\"Name\", ax=ax)\n",
        "ax.set_xlim([-10000, 140000])\n",
        "ax.set(title='2014 Revenue', xlabel='Total Revenue', ylabel='Customer')"
      ]
    },
    {
      "cell_type": "markdown",
      "metadata": {
        "id": "0l7lnH_S6mfo"
      },
      "source": [
        "Далее можем настроить размер изображения. \n",
        "\n",
        "Используя функцию `plt.subplots()`, можем определить `figsize` (размер файла) в дюймах, а также удалить легенду с помощью `ax.legend().set_visible(False)`:"
      ]
    },
    {
      "cell_type": "code",
      "execution_count": null,
      "metadata": {
        "id": "bUddU6o16mfo"
      },
      "outputs": [],
      "source": [
        "fig, ax = plt.subplots(figsize=(5, 6))\n",
        "top_10.plot(kind='barh', y=\"Sales\", x=\"Name\", ax=ax)\n",
        "ax.set_xlim([-10000, 140000])\n",
        "ax.set(title='2014 Revenue', xlabel='Total Revenue')\n",
        "ax.legend().set_visible(False)"
      ]
    },
    {
      "cell_type": "markdown",
      "metadata": {
        "id": "5SRooywQ6mfo"
      },
      "source": [
        "Есть много вещей, которые вы, вероятно, захотите сделать, чтобы очистить этот график. Одна из самых больших неприятностей - это форматирование чисел в `Total Revenue` (общего дохода). \n",
        "\n",
        "*Matplotlib* может помочь нам в этом с помощью `FuncFormatter`. Эта универсальная функция позволяет применять пользовательскую функцию к значению и возвращать красиво отформатированную строку для размещения на оси.\n",
        "\n",
        "Вот функция форматирования валюты для корректной обработки долларов США в диапазоне нескольких сотен тысяч:"
      ]
    },
    {
      "cell_type": "code",
      "execution_count": null,
      "metadata": {
        "id": "dQa-sY2c6mfp"
      },
      "outputs": [],
      "source": [
        "def currency(x, pos):\n",
        "    'Два аргумента - это значение и позиция отметки.'\n",
        "    if x >= 1000000:\n",
        "        return '${:1.1f}M'.format(x*1e-6)\n",
        "    return '${:1.0f}K'.format(x*1e-3)"
      ]
    },
    {
      "cell_type": "markdown",
      "metadata": {
        "id": "qBt_t6R-6mfp"
      },
      "source": [
        "Теперь, когда у нас есть функция форматирования, нужно определить ее и применить к оси `x`. \n",
        "\n",
        "Вот полный код:"
      ]
    },
    {
      "cell_type": "code",
      "execution_count": null,
      "metadata": {
        "id": "TrvjiW3b6mfp"
      },
      "outputs": [],
      "source": [
        "fig, ax = plt.subplots()\n",
        "top_10.plot(kind='barh', y=\"Sales\", x=\"Name\", ax=ax)\n",
        "ax.set_xlim([-10000, 140000])\n",
        "ax.set(title='2014 Revenue', xlabel='Total Revenue', ylabel='Customer')\n",
        "formatter = FuncFormatter(currency)\n",
        "ax.xaxis.set_major_formatter(formatter)\n",
        "ax.legend().set_visible(False)"
      ]
    },
    {
      "cell_type": "markdown",
      "metadata": {
        "id": "_GkUDsoY6mfp"
      },
      "source": [
        "Это намного приятнее и демонстрирует хороший пример гибкости, позволяющей найти собственное решение проблемы.\n",
        "\n",
        "Последняя функция настройки, которую я рассмотрю, - это возможность добавлять *аннотации* к графику. Чтобы нарисовать вертикальную линию, можно использовать `ax.axvline()`, а для добавления собственного текста - `ax.text()`.\n",
        "\n",
        "В этом примере мы нарисуем линию, показывающую среднее значение, и добавим метки, показывающие трех новых клиентов. \n",
        "\n",
        "Вот полный код с комментариями, чтобы собрать все воедино:"
      ]
    },
    {
      "cell_type": "code",
      "execution_count": null,
      "metadata": {
        "id": "QOOFdGIx6mfq"
      },
      "outputs": [],
      "source": [
        "# Создаем новую фигуру и оси\n",
        "fig, ax = plt.subplots()\n",
        "\n",
        "# График данных и усредненное значение\n",
        "top_10.plot(kind='barh', y=\"Sales\", x=\"Name\", ax=ax)\n",
        "avg = top_10['Sales'].mean()\n",
        "\n",
        "# Устанавливаем ограничения и метки\n",
        "ax.set_xlim([-10000, 140000])\n",
        "ax.set(title='2014 Revenue', xlabel='Total Revenue', ylabel='Customer')\n",
        "\n",
        "# Добавляем линию для среднего\n",
        "ax.axvline(x=avg, color='b', label='Average', linestyle='--', linewidth=1)\n",
        "\n",
        "# Указываем новых покупателей\n",
        "for cust in [3, 5, 8]:\n",
        "    ax.text(115000, cust, \"New Customer\")\n",
        "\n",
        "# Формат валюты\n",
        "formatter = FuncFormatter(currency)\n",
        "ax.xaxis.set_major_formatter(formatter)\n",
        "\n",
        "# Скрываем легенду\n",
        "ax.legend().set_visible(False)"
      ]
    },
    {
      "cell_type": "markdown",
      "metadata": {
        "id": "ZYTgQETx6mfq"
      },
      "source": [
        "Хотя это не самый захватывающий график, он все же показывает, сколько у вас возможностей.\n",
        "\n",
        "## Фигуры и графики (Figures and Plots)\n",
        "\n",
        "До сих пор все изменения, которые мы вносили, касались отдельного графика. К счастью, у нас есть возможность добавить несколько графиков к фигуре, а также сохранить фигуру целиком, используя различные параметры.\n",
        "\n",
        "Если мы хотим нанести два графика на одну и ту же фигуру, то должно быть понимание того, как это сделать. \n",
        "\n",
        "Сначала создайте фигуру, потом оси, а затем нанесите все вместе. \n",
        "\n",
        "Можем сделать это с помощью `plt.subplots()`:"
      ]
    },
    {
      "cell_type": "code",
      "execution_count": null,
      "metadata": {
        "id": "UlGbxQKn6mfq"
      },
      "outputs": [],
      "source": [
        "fig, (ax0, ax1) = plt.subplots(nrows=1, ncols=2, sharey=True, figsize=(7, 4))"
      ]
    },
    {
      "cell_type": "markdown",
      "metadata": {
        "id": "qZPj1dhE6mfr"
      },
      "source": [
        "В этом примере я использую `nrows` и `ncols`, чтобы указать размер, потому что это понятно новому пользователю. \n",
        "\n",
        "В коде вы часто будете встречать значения, типа `1,2`. Я думаю, что использование именованных параметров будет легче интерпретировать позже, когда вы вернетесь к своему коду.\n",
        "\n",
        "Я также использую `sharey=True`, чтобы оси `y` использовали одни и те же метки.\n",
        "\n",
        "Этот пример довольно изящный, потому что различные оси распаковываются в `ax0` и `ax1`. \n",
        "\n",
        "Теперь, когда у нас есть эти оси, вы можете построить их, как в приведенных выше примерах, но поместите один график на `ax0`, а другой на `ax1`."
      ]
    },
    {
      "cell_type": "code",
      "execution_count": null,
      "metadata": {
        "id": "6iiHev3K6mfr"
      },
      "outputs": [],
      "source": [
        "# Получаем фигуру и оси\n",
        "fig, (ax0, ax1) = plt.subplots(nrows=1,ncols=2, sharey=True, figsize=(7, 4))\n",
        "top_10.plot(kind='barh', y=\"Sales\", x=\"Name\", ax=ax0)\n",
        "\n",
        "ax0.set_xlim([-10000, 140000])\n",
        "ax0.set(title='Revenue', xlabel='Total Revenue', ylabel='Customers')\n",
        "\n",
        "# Рисуем среднее, как вертикальную линию\n",
        "avg = top_10['Sales'].mean()\n",
        "ax0.axvline(x=avg, color='b', label='Average', linestyle='--', linewidth=1)\n",
        "\n",
        "# Повторите для отдельного графика\n",
        "top_10.plot(kind='barh', y=\"Purchases\", x=\"Name\", ax=ax1)\n",
        "avg = top_10['Purchases'].mean()\n",
        "\n",
        "ax1.set(title='Units', xlabel='Total Units', ylabel='')\n",
        "ax1.axvline(x=avg, color='b', label='Average', linestyle='--', linewidth=1)\n",
        "\n",
        "# Заголовок фигуры\n",
        "fig.suptitle('2014 Sales Analysis', fontsize=14, fontweight='bold');\n",
        "\n",
        "# Скрываем легенды\n",
        "ax1.legend().set_visible(False)\n",
        "ax0.legend().set_visible(False)"
      ]
    },
    {
      "cell_type": "markdown",
      "metadata": {
        "id": "EVCL8yXf6mfr"
      },
      "source": [
        "До сих пор я полагался на *jupyter блокнот* для отображения с помощью встроенной директивы `%matplotlib inline`. \n",
        "\n",
        "Тем не менее, будет много случаев, когда вам понадобится сохранить фигуру в определенном формате и интегрировать ее с какой-либо другой презентацией.\n",
        "\n",
        "*Matplotlib* поддерживает множество различных форматов для сохранения файлов. Вы можете использовать `fig.canvas.get_supported_filetypes()`, чтобы узнать, что поддерживает ваша система:"
      ]
    },
    {
      "cell_type": "code",
      "execution_count": null,
      "metadata": {
        "id": "NSo8gpmV6mfr"
      },
      "outputs": [],
      "source": [
        "fig.canvas.get_supported_filetypes()"
      ]
    },
    {
      "cell_type": "markdown",
      "metadata": {
        "id": "QqjasfyL6mfr"
      },
      "source": [
        "Поскольку у нас есть объект `fig`, мы можем сохранить фигуру, используя несколько вариантов:"
      ]
    },
    {
      "cell_type": "code",
      "execution_count": null,
      "metadata": {
        "id": "J59QVyYw6mfs"
      },
      "outputs": [],
      "source": [
        "fig.savefig('sales.png', transparent=False, dpi=80, bbox_inches=\"tight\")"
      ]
    },
    {
      "cell_type": "markdown",
      "metadata": {
        "id": "9g6-Uyu66mfs"
      },
      "source": [
        "Эта версия сохраняет график в формате `png` с непрозрачным фоном. Я также указал `dpi` и `bbox_inches=\"tight\"`, чтобы убрать пустое пространство.\n",
        "\n",
        "## Заключение\n",
        "\n",
        "Надеюсь, этот процесс помог вам понять, как более эффективно использовать *matplotlib* в ежедневном анализе данных. Если вы привыкнете использовать этот подход при проведении анализа, вы сможете быстро узнать, как сделать все, что вам нужно, чтобы настроить график.\n",
        "\n",
        "В качестве последнего бонуса я добавляю краткое руководство по унификации всех концепций. Я надеюсь, что это поможет объединить этот пост и окажется полезным справочником для будущего использования.\n",
        "\n",
        "![](https://github.com/dm-fedorov/pandas_basic/blob/master/pic/matplotlib-pbpython-example.png?raw=True)"
      ]
    },
    {
      "cell_type": "markdown",
      "metadata": {
        "id": "L-YfkN_p6mfs"
      },
      "source": [
        "<a href=\"https://t.me/init_python\"><img src=\"https://dfedorov.spb.ru/pandas/logo-telegram.png\" width=\"35\" height=\"35\" alt=\"telegram\" align=\"left\"></a>"
      ]
    },
    {
      "cell_type": "code",
      "execution_count": null,
      "metadata": {
        "id": "tdB7aBxw6mfs"
      },
      "outputs": [],
      "source": []
    }
  ],
  "metadata": {
    "colab": {
      "provenance": []
    },
    "kernelspec": {
      "display_name": "Python 3.8.5 64-bit",
      "language": "python",
      "name": "python3"
    },
    "language_info": {
      "codemirror_mode": {
        "name": "ipython",
        "version": 3
      },
      "file_extension": ".py",
      "mimetype": "text/x-python",
      "name": "python",
      "nbconvert_exporter": "python",
      "pygments_lexer": "ipython3",
      "version": "3.8.5"
    },
    "vscode": {
      "interpreter": {
        "hash": "54bcd20706014be78591816f36bd2584159a9944126a8c4be89c37c7e1998045"
      }
    }
  },
  "nbformat": 4,
  "nbformat_minor": 0
}
