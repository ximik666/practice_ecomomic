{
 "cells": [
  {
   "cell_type": "markdown",
   "metadata": {},
   "source": [
    "Проведом анализ данных о пассажирах. Данные доступны в виде файла в формате CSV."
   ]
  },
  {
   "cell_type": "code",
   "execution_count": null,
   "metadata": {},
   "outputs": [],
   "source": [
    "import pandas as pd"
   ]
  },
  {
   "cell_type": "code",
   "execution_count": null,
   "metadata": {},
   "outputs": [],
   "source": [
    "url = \"./data/titanic.csv\""
   ]
  },
  {
   "cell_type": "code",
   "execution_count": null,
   "metadata": {},
   "outputs": [],
   "source": [
    "titanic = pd.read_csv(url)"
   ]
  },
  {
   "cell_type": "markdown",
   "metadata": {},
   "source": [
    "`Pandas` предоставляет функцию [`read_csv()`](https://pandas.pydata.org/pandas-docs/stable/reference/api/pandas.read_csv.html#pandas.read_csv) для чтения данных, хранящихся в виде CSV-файла, и преобразования их в `DataFrame`. \n",
    "\n",
    "`Pandas` поддерживает множество различных форматов файлов или источников данных (`csv`, `excel`, `sql`, `json`…), каждый из которых имеет префикс `read_*`."
   ]
  },
  {
   "cell_type": "markdown",
   "metadata": {},
   "source": [
    "В первую очередь, проверяйте данные после прочтения! \n",
    "\n",
    "При отображении `DataFrame` по умолчанию отображаются первые и последней 5 строк:"
   ]
  },
  {
   "cell_type": "code",
   "execution_count": null,
   "metadata": {},
   "outputs": [],
   "source": [
    "titanic"
   ]
  },
  {
   "cell_type": "markdown",
   "metadata": {},
   "source": [
    "Первые 8 строк `DataFrame`:"
   ]
  },
  {
   "cell_type": "code",
   "execution_count": null,
   "metadata": {},
   "outputs": [],
   "source": [
    "titanic.head(8)"
   ]
  },
  {
   "cell_type": "markdown",
   "metadata": {},
   "source": [
    "`pandas` содержит метод [`tail()`](https://pandas.pydata.org/pandas-docs/stable/reference/api/pandas.DataFrame.tail.html#pandas.DataFrame.tail) для отображения последних N строк. \n",
    "\n",
    "Например, `titanic.tail(10)` вернет последние 10 строк таблицы."
   ]
  },
  {
   "cell_type": "markdown",
   "metadata": {},
   "source": [
    "С помощью обращения к атрибуту `dtypes` можно проверить, какие типы данных хранятся в столбцах таблицы:"
   ]
  },
  {
   "cell_type": "code",
   "execution_count": null,
   "metadata": {},
   "outputs": [],
   "source": [
    "titanic.dtypes"
   ]
  },
  {
   "cell_type": "markdown",
   "metadata": {},
   "source": [
    "Типы данных в этом `DataFrame` - целые числа (`int64`), числа с плавающей точкой (`float63`) и строки (`object`)."
   ]
  },
  {
   "cell_type": "markdown",
   "metadata": {},
   "source": [
    "При запросе `dtypes` скобки не используются! `dtypes` является атрибутом `DataFrame` и `Series`. Атрибуты представляют собой характеристику `DataFrame` / `Series`, тогда как метод (для которого требуются скобки) что-то делает с `DataFrame` / `Series`. "
   ]
  },
  {
   "cell_type": "markdown",
   "metadata": {},
   "source": [
    "Сохраним данные в виде электронной таблицы:"
   ]
  },
  {
   "cell_type": "code",
   "execution_count": null,
   "metadata": {},
   "outputs": [],
   "source": [
    "titanic.to_excel('./data/titanic.xlsx', sheet_name='passengers', index=False)"
   ]
  },
  {
   "cell_type": "markdown",
   "metadata": {},
   "source": [
    "В то время как `read_*` функции используются для чтения данных, `to_*` методы используются для сохранения данных. \n",
    "\n",
    "[`to_excel()`](https://pandas.pydata.org/pandas-docs/stable/reference/api/pandas.DataFrame.to_excel.html#pandas.DataFrame.to_excel) сохраняет данные в виде файла `Excel`. \n",
    "\n",
    "В приведенном примере `sheet_name` задает имя листа. При настройке `index=False` индексные метки не сохраняются в электронной таблице."
   ]
  },
  {
   "cell_type": "markdown",
   "metadata": {},
   "source": [
    "Эквивалентная функция для чтения [`read_excel()`](https://pandas.pydata.org/pandas-docs/stable/reference/api/pandas.read_excel.html#pandas.read_excel) загрузит данные в `DataFrame`:"
   ]
  },
  {
   "cell_type": "code",
   "execution_count": null,
   "metadata": {},
   "outputs": [],
   "source": [
    "titanic = pd.read_excel('./data/titanic.xlsx', sheet_name='passengers')"
   ]
  },
  {
   "cell_type": "code",
   "execution_count": null,
   "metadata": {},
   "outputs": [],
   "source": [
    "titanic.head()"
   ]
  },
  {
   "cell_type": "markdown",
   "metadata": {},
   "source": [
    "Техническом детали `DataFrame`:"
   ]
  },
  {
   "cell_type": "code",
   "execution_count": null,
   "metadata": {},
   "outputs": [],
   "source": [
    "titanic.info()"
   ]
  },
  {
   "cell_type": "markdown",
   "metadata": {},
   "source": [
    "Метод [`info()`](https://pandas.pydata.org/pandas-docs/stable/reference/api/pandas.DataFrame.info.html#pandas.DataFrame.info) предоставляет техническую информацию о `DataFrame`, поэтому объясним вывод более подробно:\n",
    "\n",
    "- Это действительно `DataFrame`.\n",
    "- Всего 891 запись, т.е. 891 строка.\n",
    "- У каждой строки есть метка строки (она же `index``) со значениями от 0 до 890.\n",
    "- Таблица имеет 12 столбцов. Большинство столбцов имеют значение для каждой из строк (все 891 значения `non-null`). Некоторые столбцы имеют пропущенные значения и менее 891 `non-null` значений.\n",
    "- Столбцы `Name`, `Sex`, `Cabin` и `Embarked` состоят из текстовых данных (`object`). Другие столбцы представляют собой числовые данные, некоторые из которых являются целыми числами (`integer`), а другие - действительными числами (`float`).\n",
    "- Тип данных (символы, целые числа, ...) в разных столбцах суммируется путем перечисления `dtypes`.\n",
    "- Приводится приблизительный объем оперативной памяти, используемой для хранения `DataFrame`."
   ]
  },
  {
   "cell_type": "markdown",
   "metadata": {},
   "source": [
    "Выполнить задание\n",
    "1. Загрузите файл ./data/final_demographics_data.csv в dataframe demography\n",
    "2. Выведите первый 10  и последние 10 строк из dataframe\n",
    "3. Посмотрите какого типа данные лежат в dataframe\n",
    "4. Сохраните dataframe в excel формате\n",
    "5. Посмотрите техническую информацию о dataframe"
   ]
  },
  {
   "cell_type": "code",
   "execution_count": 10,
   "metadata": {},
   "outputs": [],
   "source": [
    "# код пишем здесь"
   ]
  }
 ],
 "metadata": {
  "kernelspec": {
   "display_name": "Python 3.8.5 64-bit",
   "language": "python",
   "name": "python3"
  },
  "language_info": {
   "codemirror_mode": {
    "name": "ipython",
    "version": 3
   },
   "file_extension": ".py",
   "mimetype": "text/x-python",
   "name": "python",
   "nbconvert_exporter": "python",
   "pygments_lexer": "ipython3",
   "version": "3.8.5"
  },
  "vscode": {
   "interpreter": {
    "hash": "54bcd20706014be78591816f36bd2584159a9944126a8c4be89c37c7e1998045"
   }
  },
  "widgets": {
   "application/vnd.jupyter.widget-state+json": {
    "state": {},
    "version_major": 2,
    "version_minor": 0
   }
  }
 },
 "nbformat": 4,
 "nbformat_minor": 4
}
