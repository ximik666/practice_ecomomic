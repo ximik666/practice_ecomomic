{
 "cells": [
  {
   "cell_type": "code",
   "execution_count": null,
   "metadata": {},
   "outputs": [],
   "source": [
    "import pandas as pd"
   ]
  },
  {
   "cell_type": "code",
   "execution_count": null,
   "metadata": {},
   "outputs": [],
   "source": [
    "url = \"./data/titanic.csv\"\n",
    "titanic = pd.read_csv(url)"
   ]
  },
  {
   "cell_type": "markdown",
   "metadata": {},
   "source": [
    "### Как выбрать определенные столбцы из DataFrame?"
   ]
  },
  {
   "cell_type": "markdown",
   "metadata": {},
   "source": [
    "<img src=\"https://pandas.pydata.org/pandas-docs/stable/_images/03_subset_columns.svg\">"
   ]
  },
  {
   "cell_type": "markdown",
   "metadata": {},
   "source": [
    "Меня интересует возраст пассажиров:"
   ]
  },
  {
   "cell_type": "code",
   "execution_count": null,
   "metadata": {},
   "outputs": [],
   "source": [
    "ages = titanic[\"Age\"]\n",
    "ages"
   ]
  },
  {
   "cell_type": "markdown",
   "metadata": {},
   "source": [
    "Чтобы выбрать один столбец, используйте квадратные скобки `[]` с именем интересующего столбца."
   ]
  },
  {
   "cell_type": "markdown",
   "metadata": {},
   "source": [
    "Каждый столбец в [`DataFrame`](https://pandas.pydata.org/pandas-docs/stable/reference/api/pandas.DataFrame.html#pandas.DataFrame) является [`Series`](https://pandas.pydata.org/pandas-docs/stable/reference/api/pandas.Series.html#pandas.Series). \n",
    "\n",
    "Поскольку выбран один столбец, то возвращаемый объект является `Series`. \n",
    "\n",
    "Мы можем проверить это:"
   ]
  },
  {
   "cell_type": "code",
   "execution_count": null,
   "metadata": {},
   "outputs": [],
   "source": [
    "type(titanic[\"Age\"])"
   ]
  },
  {
   "cell_type": "markdown",
   "metadata": {},
   "source": [
    "Посмотрим на результат обращения к атрибуту `shape`:"
   ]
  },
  {
   "cell_type": "code",
   "execution_count": null,
   "metadata": {},
   "outputs": [],
   "source": [
    "titanic[\"Age\"].shape"
   ]
  },
  {
   "cell_type": "markdown",
   "metadata": {},
   "source": [
    "[`DataFrame.shape`](https://pandas.pydata.org/pandas-docs/stable/reference/api/pandas.DataFrame.shape.html#pandas.DataFrame.shape) является атрибутом `Series` и `DataFrame` и содержит количество строк и столбцов `(nrows, ncolumns)`. \n",
    "\n",
    "Серия является одномерной, поэтому возвращается только количество строк."
   ]
  },
  {
   "cell_type": "markdown",
   "metadata": {},
   "source": [
    "Меня интересует возраст и пол пассажиров:"
   ]
  },
  {
   "cell_type": "code",
   "execution_count": null,
   "metadata": {},
   "outputs": [],
   "source": [
    "age_sex = titanic[[\"Age\", \"Sex\"]]"
   ]
  },
  {
   "cell_type": "code",
   "execution_count": null,
   "metadata": {},
   "outputs": [],
   "source": [
    "age_sex.head()"
   ]
  },
  {
   "cell_type": "markdown",
   "metadata": {},
   "source": [
    "Чтобы выбрать несколько столбцов, используйте список имен столбцов в квадратных скобках `[]`."
   ]
  },
  {
   "cell_type": "markdown",
   "metadata": {},
   "source": [
    "Внутренние квадратные скобки определяют [список Python](https://docs.python.org/3/tutorial/datastructures.html#tut-morelists) с именами столбцов, тогда как внешние квадратные скобки используются для выбора данных."
   ]
  },
  {
   "cell_type": "markdown",
   "metadata": {},
   "source": [
    "Возвращаемый тип данных - `DataFrame`:"
   ]
  },
  {
   "cell_type": "code",
   "execution_count": null,
   "metadata": {},
   "outputs": [],
   "source": [
    "type(titanic[[\"Age\", \"Sex\"]])"
   ]
  },
  {
   "cell_type": "code",
   "execution_count": null,
   "metadata": {},
   "outputs": [],
   "source": [
    "titanic[[\"Age\", \"Sex\"]].shape"
   ]
  },
  {
   "cell_type": "markdown",
   "metadata": {},
   "source": [
    "Видим, что `DataFrame` содержит 891 строк и 2 столбца. "
   ]
  },
  {
   "cell_type": "markdown",
   "metadata": {},
   "source": [
    "Для получения информации об индексации см. [Раздел руководства пользователя по индексированию и выбору данных](https://pandas.pydata.org/pandas-docs/stable/user_guide/indexing.html#indexing-basics)."
   ]
  },
  {
   "cell_type": "markdown",
   "metadata": {},
   "source": [
    "### Как отфильтровать определенные строки из DataFrame?\n",
    "\n",
    "<img src=\"https://pandas.pydata.org/pandas-docs/stable/_images/03_subset_rows.svg\">"
   ]
  },
  {
   "cell_type": "markdown",
   "metadata": {},
   "source": [
    "Меня интересуют пассажиры старше 35 лет:"
   ]
  },
  {
   "cell_type": "code",
   "execution_count": null,
   "metadata": {},
   "outputs": [],
   "source": [
    "above_35 = titanic[titanic[\"Age\"] > 35]"
   ]
  },
  {
   "cell_type": "code",
   "execution_count": null,
   "metadata": {},
   "outputs": [],
   "source": [
    "above_35.head()"
   ]
  },
  {
   "cell_type": "markdown",
   "metadata": {},
   "source": [
    "Условие внутри скобок проверяет, для каких строк столбец имеет значение больше 35:"
   ]
  },
  {
   "cell_type": "code",
   "execution_count": null,
   "metadata": {},
   "outputs": [],
   "source": [
    "titanic[\"Age\"] > 35"
   ]
  },
  {
   "cell_type": "markdown",
   "metadata": {},
   "source": [
    "Вывод условного выражения (`>`, но также будут работать `==`, `!=`, `<`, `<=`, ... ) является `Series` булевых значений (`True` или `False`) с тем же числом строк, что и в оригинальном `DataFrame`. \n",
    "\n",
    "Подобный `Series` может быть использован для фильтрации `DataFrame`, помещая его внутрь скобок выбора `[]`. \n",
    "\n",
    "Будут выбраны только те строки, для которых это значение `True`.\n",
    "\n",
    "Давайте посмотрим на количество строк, которые удовлетворяют условию, проверив атрибут `shape` полученного `DataFrame`:"
   ]
  },
  {
   "cell_type": "code",
   "execution_count": null,
   "metadata": {},
   "outputs": [],
   "source": [
    "above_35.shape"
   ]
  },
  {
   "cell_type": "markdown",
   "metadata": {},
   "source": [
    "Меня интересуют пассажиры из кают класса `2` и `3`:"
   ]
  },
  {
   "cell_type": "code",
   "execution_count": null,
   "metadata": {},
   "outputs": [],
   "source": [
    "class_23 = titanic[titanic[\"Pclass\"].isin([2, 3])]"
   ]
  },
  {
   "cell_type": "markdown",
   "metadata": {},
   "source": [
    "Подобно условному выражению, [`isin()`](https://pandas.pydata.org/pandas-docs/stable/reference/api/pandas.Series.isin.html#pandas.Series.isin) возвращает `True` для каждой строки, значения которой находятся в предоставленном списке. \n",
    "\n",
    "Чтобы отфильтровать строки на основе такой функции, используйте функцию внутри скобок `[]`. \n",
    "\n",
    "Вышесказанное эквивалентно фильтрации по строкам, для которых класс равен `2` или `3`, и объединению двух операторов с помощью (или) `|` :"
   ]
  },
  {
   "cell_type": "code",
   "execution_count": null,
   "metadata": {},
   "outputs": [],
   "source": [
    "class_23 = titanic[(titanic[\"Pclass\"] == 2) | (titanic[\"Pclass\"] == 3)]"
   ]
  },
  {
   "cell_type": "code",
   "execution_count": null,
   "metadata": {},
   "outputs": [],
   "source": [
    "class_23.head()"
   ]
  },
  {
   "cell_type": "markdown",
   "metadata": {},
   "source": [
    "См. Специальный раздел в [руководстве пользователя о булевой индексации](https://pandas.pydata.org/pandas-docs/stable/user_guide/indexing.html#indexing-boolean)."
   ]
  },
  {
   "cell_type": "markdown",
   "metadata": {},
   "source": [
    "Я хочу работать с данными о пассажирах, для которых известен возраст:"
   ]
  },
  {
   "cell_type": "code",
   "execution_count": null,
   "metadata": {},
   "outputs": [],
   "source": [
    "age_no_na = titanic[titanic[\"Age\"].notna()]"
   ]
  },
  {
   "cell_type": "code",
   "execution_count": null,
   "metadata": {},
   "outputs": [],
   "source": [
    "age_no_na.head()"
   ]
  },
  {
   "cell_type": "markdown",
   "metadata": {},
   "source": [
    "[`notna()`](https://pandas.pydata.org/pandas-docs/stable/reference/api/pandas.Series.notna.html#pandas.Series.notna) возвращает `True` для каждой строки, значение которой отлично от `NA` (`np.NaN`). "
   ]
  },
  {
   "cell_type": "markdown",
   "metadata": {},
   "source": [
    "Проверим, изменилась ли форма:"
   ]
  },
  {
   "cell_type": "code",
   "execution_count": null,
   "metadata": {},
   "outputs": [],
   "source": [
    "age_no_na.shape"
   ]
  },
  {
   "cell_type": "markdown",
   "metadata": {},
   "source": [
    "### Как выбрать определенные строки и столбцы из DataFrame?"
   ]
  },
  {
   "cell_type": "markdown",
   "metadata": {},
   "source": [
    "<img src=\"https://pandas.pydata.org/docs/_images/03_subset_columns_rows.svg\">"
   ]
  },
  {
   "cell_type": "markdown",
   "metadata": {},
   "source": [
    "Меня интересуют имена пассажиров старше `35` лет:"
   ]
  },
  {
   "cell_type": "code",
   "execution_count": null,
   "metadata": {},
   "outputs": [],
   "source": [
    "adult_names = titanic.loc[titanic[\"Age\"] > 35, \"Name\"]"
   ]
  },
  {
   "cell_type": "code",
   "execution_count": null,
   "metadata": {},
   "outputs": [],
   "source": [
    "adult_names.head()"
   ]
  },
  {
   "cell_type": "markdown",
   "metadata": {},
   "source": [
    "В этом случае подмножество строк и столбцов создается за один раз, и просто использование скобок выбора `[]` больше не достаточно. \n",
    "\n",
    "Операторы `loc` / `iloc` требуются перед скобками`[]`. \n",
    "\n",
    "При использовании `loc` / `iloc` часть перед запятой - это строки, которые вы хотите выбрать, а часть после запятой - это столбцы."
   ]
  },
  {
   "cell_type": "markdown",
   "metadata": {},
   "source": [
    "При использовании имен столбцов, меток строк или условных выражений используйте оператор `loc` перед скобками выбора `[]`. \n",
    "\n",
    "Как для части до, так и после запятой можно использовать одну метку, список меток, часть меток, условное выражение или двоеточие. \n",
    "\n",
    "Используя особенности двоеточия, если хотите выбрать все строки или столбцы."
   ]
  },
  {
   "cell_type": "markdown",
   "metadata": {},
   "source": [
    "Меня интересуют строки с `9` по `24` и столбцы с `2` по `4`:"
   ]
  },
  {
   "cell_type": "code",
   "execution_count": null,
   "metadata": {},
   "outputs": [],
   "source": [
    "titanic.iloc[9:25, 2:5]"
   ]
  },
  {
   "cell_type": "markdown",
   "metadata": {},
   "source": [
    "Опять же, подмножество строк и столбцов создается за один раз, и просто использование скобок выбора `[]` больше не достаточно. \n",
    "\n",
    "Если вас интересуют определенные строки и/или столбцы в зависимости от их положения в таблице, используйте оператор `iloc` перед `[]`."
   ]
  },
  {
   "cell_type": "markdown",
   "metadata": {},
   "source": [
    "При выборе определенных строк и/или столбцов с помощью `loc` или `iloc`, новым значениям могут быть назначены выбранные данные. \n",
    "\n",
    "Например, чтобы присвоить имя anonymous первым `3` элементам третьего столбца:"
   ]
  },
  {
   "cell_type": "code",
   "execution_count": null,
   "metadata": {},
   "outputs": [],
   "source": [
    "titanic.iloc[0:3, 3] = \"anonymous\""
   ]
  },
  {
   "cell_type": "code",
   "execution_count": null,
   "metadata": {},
   "outputs": [],
   "source": [
    "titanic.head()"
   ]
  },
  {
   "cell_type": "markdown",
   "metadata": {},
   "source": [
    "1. Загрузите файл ./data/final_demographics_data.csv в dataframe demography\n",
    "1. Создайте dataframe populations, в котором будут только стобцы country и \"population total\"\n",
    "2. В populations найдите число стран, где число жителей превышает 5 млн. человек\n",
    "3. Из demography выберите страны, где плотность населения больше 200 человек на квадратный километр, которые расположены в Центральной Америке и Восточной Европе."
   ]
  }
 ],
 "metadata": {
  "kernelspec": {
   "display_name": "Python 3.8.5 64-bit",
   "language": "python",
   "name": "python3"
  },
  "language_info": {
   "codemirror_mode": {
    "name": "ipython",
    "version": 3
   },
   "file_extension": ".py",
   "mimetype": "text/x-python",
   "name": "python",
   "nbconvert_exporter": "python",
   "pygments_lexer": "ipython3",
   "version": "3.8.5"
  },
  "vscode": {
   "interpreter": {
    "hash": "54bcd20706014be78591816f36bd2584159a9944126a8c4be89c37c7e1998045"
   }
  },
  "widgets": {
   "application/vnd.jupyter.widget-state+json": {
    "state": {},
    "version_major": 2,
    "version_minor": 0
   }
  }
 },
 "nbformat": 4,
 "nbformat_minor": 4
}
