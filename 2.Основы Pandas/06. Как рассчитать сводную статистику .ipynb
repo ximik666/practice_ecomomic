{
 "cells": [
  {
   "cell_type": "markdown",
   "metadata": {},
   "source": [
    "### Как рассчитать сводную статистику?"
   ]
  },
  {
   "cell_type": "code",
   "execution_count": null,
   "metadata": {},
   "outputs": [],
   "source": [
    "import pandas as pd"
   ]
  },
  {
   "cell_type": "code",
   "execution_count": null,
   "metadata": {},
   "outputs": [],
   "source": [
    "url = \"./data/titanic.csv\""
   ]
  },
  {
   "cell_type": "code",
   "execution_count": null,
   "metadata": {},
   "outputs": [],
   "source": [
    "titanic = pd.read_csv(url)\n",
    "titanic"
   ]
  },
  {
   "cell_type": "markdown",
   "metadata": {},
   "source": [
    "### Сводная статистика "
   ]
  },
  {
   "cell_type": "markdown",
   "metadata": {},
   "source": [
    "<img src=\"https://pandas.pydata.org/pandas-docs/stable/_images/06_aggregate.svg\" >"
   ]
  },
  {
   "cell_type": "markdown",
   "metadata": {},
   "source": [
    "Каков средний возраст пассажиров?"
   ]
  },
  {
   "cell_type": "code",
   "execution_count": null,
   "metadata": {},
   "outputs": [],
   "source": [
    "titanic[\"Age\"].mean()"
   ]
  },
  {
   "cell_type": "markdown",
   "metadata": {},
   "source": [
    "В `pandas` доступны различные статистические данные, которые могут быть применены к столбцам с числовыми значениями. \n",
    "\n",
    "Операции исключают отсутствующие данные и по умолчанию работают со строками в таблице."
   ]
  },
  {
   "cell_type": "markdown",
   "metadata": {},
   "source": [
    "<img src=\"https://pandas.pydata.org/pandas-docs/stable/_images/06_reduction.svg\">"
   ]
  },
  {
   "cell_type": "markdown",
   "metadata": {},
   "source": [
    "Каков средний возраст и стоимость билета для пассажиров?"
   ]
  },
  {
   "cell_type": "code",
   "execution_count": null,
   "metadata": {},
   "outputs": [],
   "source": [
    "titanic[[\"Age\", \"Fare\"]].median()"
   ]
  },
  {
   "cell_type": "markdown",
   "metadata": {},
   "source": [
    "<img src=\"https://upload.wikimedia.org/wikipedia/commons/5/59/Titanic_surviving_officers.jpg\" width=\"250\" height=\"200\">\n",
    "На фото четыре спасшихся во время крушения офицера \"Титаника\""
   ]
  },
  {
   "cell_type": "markdown",
   "metadata": {},
   "source": [
    "Статистика, примененная к нескольким столбцам `DataFrame`, рассчитывается для каждого из числовых столбцов."
   ]
  },
  {
   "cell_type": "markdown",
   "metadata": {},
   "source": [
    "Агрегирующая статистика может быть рассчитана для нескольких столбцов одновременно:"
   ]
  },
  {
   "cell_type": "code",
   "execution_count": null,
   "metadata": {},
   "outputs": [],
   "source": [
    "titanic[[\"Age\", \"Fare\"]].describe()"
   ]
  },
  {
   "cell_type": "markdown",
   "metadata": {},
   "source": [
    "С помощью метода [`DataFrame.agg()`](https://pandas.pydata.org/pandas-docs/stable/reference/api/pandas.DataFrame.agg.html#pandas.DataFrame.agg) могут быть определены комбинации статистики для заданных столбцов:"
   ]
  },
  {
   "cell_type": "code",
   "execution_count": null,
   "metadata": {},
   "outputs": [],
   "source": [
    "titanic.agg({'Age': ['min', 'max', 'median', 'skew'],\n",
    "             'Fare': ['min', 'max', 'median', 'mean']})"
   ]
  },
  {
   "cell_type": "markdown",
   "metadata": {},
   "source": [
    "Подробная информация об описательной статистике представлена в [разделе руководства пользователя по описательной статистике](https://pandas.pydata.org/docs/user_guide/basics.html?highlight=describe#descriptive-statistics)."
   ]
  },
  {
   "cell_type": "markdown",
   "metadata": {},
   "source": [
    "### Агрегирование статистических данных, сгруппированных по категориям"
   ]
  },
  {
   "cell_type": "markdown",
   "metadata": {},
   "source": [
    "<img src=\"https://pandas.pydata.org/docs/_images/06_groupby.svg\">"
   ]
  },
  {
   "cell_type": "markdown",
   "metadata": {},
   "source": [
    "Каков средний возраст мужчин и женщин пассажиров?"
   ]
  },
  {
   "cell_type": "code",
   "execution_count": null,
   "metadata": {},
   "outputs": [],
   "source": [
    "titanic[[\"Sex\", \"Age\"]].groupby(\"Sex\").mean()"
   ]
  },
  {
   "cell_type": "markdown",
   "metadata": {},
   "source": [
    "Поскольку интерес представляет средний возраст для каждого пола, сначала делается выборка по этим двум столбцам: `titanic[[\"Sex\", \"Age\"]]`.\n",
    "\n",
    "Затем метод [`groupby()`](https://pandas.pydata.org/pandas-docs/stable/reference/api/pandas.DataFrame.groupby.html#pandas.DataFrame.groupby) применяется к столбцу `Sex` для создания группы по категориям. \n",
    "\n",
    "Затем рассчитывается и возвращается средний возраст для каждого пола."
   ]
  },
  {
   "cell_type": "markdown",
   "metadata": {},
   "source": [
    "Вычисление заданной статистики (например, `mean` для возраста) для каждой категории в столбце (например, `male`/`female` в столбце `Sex`) является обычной моделью. Метод `groupby` используется для поддержки этого типа операций. В более общем плане это соответствует схеме `split-apply-combine`:\n",
    "\n",
    "- **Разделить** данные на группы\n",
    "- **Применить** функцию независимо к каждой группе \n",
    "- **Объединить** результаты в структуру данных\n",
    "\n",
    "Этапы применения и объединения обычно выполняются в `pandas` вместе.\n",
    "\n",
    "В предыдущем примере мы сначала явно выбрали `2` столбца. Если нет, то метод `mean` применяется к каждому столбцу, содержащему числа:"
   ]
  },
  {
   "cell_type": "code",
   "execution_count": null,
   "metadata": {},
   "outputs": [],
   "source": [
    "titanic.groupby(\"Sex\").mean()"
   ]
  },
  {
   "cell_type": "markdown",
   "metadata": {},
   "source": [
    "Не имеет смысла получать среднее значение для столбца `Pclass` (тип каюты). \n",
    "\n",
    "Если нас интересует только средний возраст для каждого пола, то выбор столбцов поддерживается и для сгруппированных данных:"
   ]
  },
  {
   "cell_type": "code",
   "execution_count": null,
   "metadata": {},
   "outputs": [],
   "source": [
    "titanic.groupby(\"Sex\")[\"Age\"].mean()"
   ]
  },
  {
   "cell_type": "markdown",
   "metadata": {},
   "source": [
    "<img src=\"https://pandas.pydata.org/pandas-docs/stable/_images/06_groupby_select_detail.svg\" >"
   ]
  },
  {
   "cell_type": "markdown",
   "metadata": {},
   "source": [
    "Столбец `Pclass` содержит числовые данные, но на самом деле представляет собой `3` категории (или фактора), соответственно метки `\"1\"`, `\"2\"` и `\"3\"`. Расчет статистики по ним не имеет большого смысла. \n",
    "`pandas` предоставляет тип данных `Categorical` для обработки подобных значений. Более подробная информация представлена в руководстве пользователя в разделе [Категориальные данные](https://pandas.pydata.org/pandas-docs/stable/user_guide/categorical.html#categorical)."
   ]
  },
  {
   "cell_type": "markdown",
   "metadata": {},
   "source": [
    "Какова средняя цена билета для каждой комбинации пола и типа каюты?"
   ]
  },
  {
   "cell_type": "code",
   "execution_count": null,
   "metadata": {},
   "outputs": [],
   "source": [
    "titanic.groupby([\"Sex\", \"Pclass\"])[\"Fare\"].mean()"
   ]
  },
  {
   "cell_type": "markdown",
   "metadata": {},
   "source": [
    "Группировка может выполняться по нескольким столбцам одновременно. Укажите имена столбцов в виде списка для метода [`groupby()`](https://pandas.pydata.org/pandas-docs/stable/reference/api/pandas.DataFrame.groupby.html#pandas.DataFrame.groupby)."
   ]
  },
  {
   "cell_type": "markdown",
   "metadata": {},
   "source": [
    "Полное описание подхода разделения-применения-объединения приведено в разделе [руководства пользователя по групповым операциям](https://pandas.pydata.org/pandas-docs/stable/user_guide/groupby.html#groupby)."
   ]
  },
  {
   "cell_type": "markdown",
   "metadata": {},
   "source": [
    "### Подсчитать количество записей по категориям"
   ]
  },
  {
   "cell_type": "markdown",
   "metadata": {},
   "source": [
    "<img src=\"https://pandas.pydata.org/pandas-docs/stable/_images/06_valuecounts.svg\" >"
   ]
  },
  {
   "cell_type": "markdown",
   "metadata": {},
   "source": [
    "Какое количество пассажиров в каждом из типов кают?"
   ]
  },
  {
   "cell_type": "code",
   "execution_count": null,
   "metadata": {},
   "outputs": [],
   "source": [
    "titanic[\"Pclass\"].value_counts()"
   ]
  },
  {
   "cell_type": "markdown",
   "metadata": {},
   "source": [
    "Метод [`value_counts()`](https://pandas.pydata.org/pandas-docs/stable/reference/api/pandas.Series.value_counts.html#pandas.Series.value_counts) подсчитывает количество записей для каждой категории в колонке."
   ]
  },
  {
   "cell_type": "markdown",
   "metadata": {},
   "source": [
    "На самом деле, за этой функцией скрывается групповая операция в сочетании с подсчетом количества записей в каждой группе:"
   ]
  },
  {
   "cell_type": "code",
   "execution_count": null,
   "metadata": {},
   "outputs": [],
   "source": [
    "titanic.groupby(\"Pclass\")[\"Pclass\"].count()"
   ]
  },
  {
   "cell_type": "markdown",
   "metadata": {},
   "source": [
    "<img src=\"https://upload.wikimedia.org/wikipedia/commons/a/ab/B-58.jpg\" width=\"250\" height=\"200\">\n",
    "\n",
    "На фото каюта Титаника \"В-58\""
   ]
  },
  {
   "cell_type": "markdown",
   "metadata": {},
   "source": [
    "В сочетании с `groupby` могут быть использованы `size` и `count`. \n",
    "\n",
    "В то время как `size` включает в себя `NaN` значения и просто предоставляет количество строк (размер таблицы), `count` исключает отсутствующие значения. \n",
    "\n",
    "В методе `value_counts` используйте `dropna` аргумент для включения или исключения `NaN` значений."
   ]
  },
  {
   "cell_type": "markdown",
   "metadata": {},
   "source": [
    "1. Загрузите файл ./data/final_demographics_data.csv в dataframe demography\n",
    "2. Посчитайте средний % процент трудоспособного населения для каждого региона\n",
    "3. Найдите страны, где общие запасы превыщают среднее значение и вывести для этих стран % трудоспособного населения.\n",
    "4. Расчитать агрегирующую статистику для столбцов \n"
   ]
  }
 ],
 "metadata": {
  "kernelspec": {
   "display_name": "Python 3.8.5 64-bit",
   "language": "python",
   "name": "python3"
  },
  "language_info": {
   "codemirror_mode": {
    "name": "ipython",
    "version": 3
   },
   "file_extension": ".py",
   "mimetype": "text/x-python",
   "name": "python",
   "nbconvert_exporter": "python",
   "pygments_lexer": "ipython3",
   "version": "3.8.5"
  },
  "vscode": {
   "interpreter": {
    "hash": "54bcd20706014be78591816f36bd2584159a9944126a8c4be89c37c7e1998045"
   }
  },
  "widgets": {
   "application/vnd.jupyter.widget-state+json": {
    "state": {},
    "version_major": 2,
    "version_minor": 0
   }
  }
 },
 "nbformat": 4,
 "nbformat_minor": 4
}
