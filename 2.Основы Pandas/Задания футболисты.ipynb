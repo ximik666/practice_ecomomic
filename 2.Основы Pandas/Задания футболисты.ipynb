{
 "cells": [
  {
   "cell_type": "markdown",
   "metadata": {},
   "source": [
    "В [датасете](https://raw.githubusercontent.com/dm-fedorov/pandas_basic/master/data/football.csv) присутствуют различные данные о футболистах, среди которых: \n",
    "\n",
    "- Имя (Name),\n",
    "- Возраст (Age),\n",
    "- Национальность (Nationality),\n",
    "- Клуб, за который они играют (Club),\n",
    "- Стоимость (Value),\n",
    "- Годовая заработная плата (Wage),\n",
    "- Позиция, на которой они играют (Position),\n",
    "- Различные игровые характеристики (Crossing, Finishing, HeadingAccuracy, ShortPassing, Volleys, Dribbling, Curve, FKAccuracy, LongPassing, BallControl, Acceleration, SprintSpeed, Agility, Reactions, Balance, ShotPower, Jumping, Stamina, Strength, LongShots, Aggression, Interceptions, Positioning, Vision, Penalties, Composure, Marking, StandingTackle, SlidingTackle, GKDiving, GKHandling, GKKicking, GKPositioning, GKReflexes),\n",
    "- Также присутствует системная колонка с номером строки.\n",
    "\n",
    "Полное описание всех полей находится в файле по [ссылке](https://github.com/dm-fedorov/pandas_basic/blob/master/data/football_about.txt).\n",
    "\n",
    "Данные содержат в себе информацию о 12897 футболистах и их характеристиках. "
   ]
  },
  {
   "cell_type": "markdown",
   "metadata": {},
   "source": [
    "```Python\n",
    "pd.read_csv('Полный_путь_к_файлу/название_файла.csv')\n",
    "```\n",
    "\n",
    "Функция возвращает `DataFrame` (таблицу), однако затем принимает ещё много важных параметров, среди которых:\n",
    "\n",
    "- `sep` — разделитель данных, по умолчанию `','`;\n",
    "- `decimal` — разделитель числа на целую и дробную часть, по умолчанию `'.'`;\n",
    "- `names` — список с названиями колонок, не обязательный параметр;\n",
    "- `skiprows` — если файл содержит системную информацию, можно просто её пропустить. \n",
    "\n",
    "Дополнительные параметры можно посмотреть в [официальной документации](https://pandas.pydata.org/pandas-docs/stable/reference/api/pandas.read_csv.html)."
   ]
  },
  {
   "cell_type": "markdown",
   "metadata": {},
   "source": [
    "Часто после чтения данных с помощью `read_csv()` хочется убедиться в правильности чтения или, к примеру, посмотреть, что лежит в наборе данных. \n",
    "\n",
    "Для этого используются методы `.head()` или `.tail()`, которые показывают первые или последние 5 строк таблицы. Количество строк можно менять параметром `n`, передаваемым в функцию. \n",
    "\n",
    "Посмотрим, как они работают, на примере уже запомнившегося нам набора данных о футболистах:"
   ]
  },
  {
   "cell_type": "code",
   "execution_count": null,
   "metadata": {},
   "outputs": [],
   "source": [
    "import pandas as pd\n",
    "\n",
    "url = \"./data/football.csv\"\n",
    "\n",
    "football = pd.read_csv(url)\n",
    "football.head()"
   ]
  },
  {
   "cell_type": "code",
   "execution_count": null,
   "metadata": {},
   "outputs": [],
   "source": [
    "import pandas as pd\n",
    "\n",
    "football = pd.read_csv(url)\n",
    "football.info()"
   ]
  },
  {
   "cell_type": "markdown",
   "metadata": {},
   "source": [
    "Метод `describe` показывает основные статистические характеристики данных по каждому числовому признаку (типы `int64` и `float64`): число непропущенных значений, среднее, стандартное отклонение, диапазон, медиану, `0.25` и `0.75` квартили."
   ]
  },
  {
   "cell_type": "code",
   "execution_count": null,
   "metadata": {},
   "outputs": [],
   "source": [
    "import pandas as pd\n",
    "\n",
    "football = pd.read_csv(url)\n",
    "football.describe()"
   ]
  },
  {
   "cell_type": "markdown",
   "metadata": {},
   "source": [
    "Здесь для каждого числового (`int64`) столбца показано число непустых значений (`count`), среднее (`mean`), стандартное отклонение (`std`), минимум и максимум (`min` и `max`), `25%` и `75%` квартили и медиана (`50%`). \n",
    "\n",
    "Чтобы посмотреть статистику по нечисловым признакам (например, по строчным (`object`) или булевым (`bool`) данным), нужно явно указать интересующие нас типы в параметре `include` метода `describe`:"
   ]
  },
  {
   "cell_type": "code",
   "execution_count": null,
   "metadata": {},
   "outputs": [],
   "source": [
    "football.describe(include=['object'])"
   ]
  },
  {
   "cell_type": "markdown",
   "metadata": {},
   "source": [
    "Здесь для каждой колонки с типом `object` (строчные данные) выводится количество непустых строк, уникальных значений, самое частое значение (`top`) и частота этого значения (`freq`). "
   ]
  },
  {
   "cell_type": "markdown",
   "metadata": {},
   "source": [
    "Для вычисления отдельных статистических параметров `DataFrame` можно использовать не только метод `.describe()`, но и отдельные методы для каждого параметра:"
   ]
  },
  {
   "cell_type": "markdown",
   "metadata": {},
   "source": [
    "|Метод   | Статистический параметр  |\n",
    "|---|---|\n",
    "|.max()|Максимум  |\n",
    "|.min()|Минимум   |\n",
    "|.mean()|Среднее значение   |\n",
    "|.sum()| Сумма  |\n",
    "|.count()|Количество непустых элементов   |\n",
    "|.std()|Стандартное отклонение   |\n"
   ]
  },
  {
   "cell_type": "markdown",
   "metadata": {},
   "source": [
    "Если один из этих методов применить ко всему `DataFrame`, то в результате его работы будет получен объект типа `Series`. В случае применения метода к отдельному столбцу, результатом вычислений станет число (среднее значение элементов столбца, минимум, максимум и т.п.).\n",
    "\n",
    "В каждый метод можно передать некоторые параметры, среди которых:\n",
    "\n",
    "- `axis` — определяет, подсчитывать максимум по строкам (1) или по столбцам (0) (по умолчанию 0);\n",
    "- `numeric_only` — определяет, вычислять параметры только по числовым столбцам/строкам или нет (`True/False`). Если передать `False` в методы `.mean()` или `.std()`, компилятор выдаст ошибку. \n",
    "\n",
    "Пример применения: "
   ]
  },
  {
   "cell_type": "code",
   "execution_count": null,
   "metadata": {},
   "outputs": [],
   "source": [
    "df = pd.DataFrame([[i, i + 1.2, i + 2, 'hi'] for i in range(10)],\n",
    "                  columns=['foo', 'bar', 'baz', 'foobar'])\n",
    "df"
   ]
  },
  {
   "cell_type": "code",
   "execution_count": null,
   "metadata": {},
   "outputs": [],
   "source": [
    "df.mean()"
   ]
  },
  {
   "cell_type": "markdown",
   "metadata": {},
   "source": [
    "Здесь вычисляется среднее по столбцам (так как не передан параметр `axis`), причем только по числовым столбцам, так как метод `.mean()` не может применяться к столбцам с другим типом.\n",
    "\n",
    "Доступ к колонке можно получить разными способами: `df['column_name']` или `df.column_name`. \n",
    "\n",
    "Например, так:"
   ]
  },
  {
   "cell_type": "code",
   "execution_count": null,
   "metadata": {},
   "outputs": [],
   "source": [
    "df = pd.DataFrame([[i, i + 1.2, i + 2, 'hi'] for i in range(10)],\n",
    "                  columns=['foo', 'bar', 'baz', 'foobar'])\n",
    "df['foo']"
   ]
  },
  {
   "cell_type": "code",
   "execution_count": null,
   "metadata": {},
   "outputs": [],
   "source": [
    "df.foo"
   ]
  },
  {
   "cell_type": "markdown",
   "metadata": {},
   "source": [
    "Как мы помним, колонки в `DataFrame` представляют собой `Series`, поэтому к ним можно применять методы `.max()`, `.std()` и другие."
   ]
  },
  {
   "cell_type": "code",
   "execution_count": null,
   "metadata": {},
   "outputs": [],
   "source": [
    "df = pd.DataFrame([[i, i + 1.2, i + 2, 'hi'] for i in range(10)],\n",
    "                  columns=['foo', 'bar', 'baz', 'foobar'])\n",
    "df.bar.mean()"
   ]
  },
  {
   "cell_type": "markdown",
   "metadata": {},
   "source": [
    "Для следующего блока задач потребуется открыть уже известный набор данных о футболистах.\n",
    "\n",
    "### Задание 1\n",
    "\n",
    "Чему равен средний возраст (`Age`), футболистов в наборе данных, округлённый до целого?"
   ]
  },
  {
   "cell_type": "code",
   "execution_count": null,
   "metadata": {},
   "outputs": [],
   "source": []
  },
  {
   "cell_type": "markdown",
   "metadata": {},
   "source": [
    "### Задание 2\n",
    "\n",
    "Каково количество непустых строк в колонке `Composure` (Хладнокровие) набора данных о футболистах?\n"
   ]
  },
  {
   "cell_type": "code",
   "execution_count": null,
   "metadata": {},
   "outputs": [],
   "source": []
  },
  {
   "cell_type": "markdown",
   "metadata": {},
   "source": [
    "### Задание 3\n",
    "\n",
    "Каково в наборе данных о футболистах стандартное отклонение параметра коротких пасов (`ShortPassing`), округлённое до второго знака после запятой?"
   ]
  },
  {
   "cell_type": "code",
   "execution_count": null,
   "metadata": {},
   "outputs": [],
   "source": []
  },
  {
   "cell_type": "markdown",
   "metadata": {},
   "source": [
    "### Задание 4\n",
    "\n",
    "Какова сумма заработных плат за год (`Wage`) в наборе данных о футболистах?"
   ]
  },
  {
   "cell_type": "code",
   "execution_count": null,
   "metadata": {},
   "outputs": [],
   "source": []
  },
  {
   "cell_type": "markdown",
   "metadata": {},
   "source": [
    "### Задание 5\n",
    "\n",
    "Какова минимальная стоимость футболиста (`Value`) в наборе данных о футболистах?"
   ]
  },
  {
   "cell_type": "code",
   "execution_count": null,
   "metadata": {},
   "outputs": [],
   "source": []
  },
  {
   "cell_type": "markdown",
   "metadata": {},
   "source": [
    "Часто возникает необходимость выбрать данные из `DataFrame` по определённому условию. Например, если в уже известном нам наборе данных о футболистах мы хотим выбрать только тех, у кого возраст больше 20 лет, используется следующий код:"
   ]
  },
  {
   "cell_type": "code",
   "execution_count": null,
   "metadata": {},
   "outputs": [],
   "source": [
    "import pandas as pd\n",
    "\n",
    "url = \"./data/football.csv\"\n",
    "football = pd.read_csv(url)"
   ]
  },
  {
   "cell_type": "code",
   "execution_count": null,
   "metadata": {},
   "outputs": [],
   "source": [
    "football[football.Age > 20]"
   ]
  },
  {
   "cell_type": "markdown",
   "metadata": {},
   "source": [
    "Синтаксис этой конструкции достаточно прост. Внутри квадратных скобок передается список из `True` или `False`, который показывает, какие строки `DataFrame` нужно оставить, а какие убрать. Этот список генерируется сравнением `Series` `football.Age` с 20. \n",
    "\n",
    "Можно для фильтрации использовать и методы получения статистических параметров. Например, если нам нужны только те футболисты, возраст которых больше среднего возраста футболистов, можно использовать следующую конструкцию:"
   ]
  },
  {
   "cell_type": "code",
   "execution_count": null,
   "metadata": {},
   "outputs": [],
   "source": [
    "football[football.Age > football.Age.mean()]"
   ]
  },
  {
   "cell_type": "markdown",
   "metadata": {},
   "source": [
    "Условия можно и комбинировать, используя операторы `&` (логическое и) и `|` (логическое или). Условия при этом заключаются в скобки. Например, если мы хотим получить только тех футболистов, у которых возраст меньше среднего, или игроков `'FC Barcelona'`:"
   ]
  },
  {
   "cell_type": "code",
   "execution_count": null,
   "metadata": {},
   "outputs": [],
   "source": [
    "football[(football.Age < football.Age.mean())|\n",
    "         (football.Club == 'FC Barcelona')]"
   ]
  },
  {
   "cell_type": "markdown",
   "metadata": {},
   "source": [
    "Статистические параметры можно посчитать и по отфильтрованному `DataFrame`, например среднюю заработную плату футболистов с возрастом меньше среднего и из `'FC Barcelona'`:"
   ]
  },
  {
   "cell_type": "code",
   "execution_count": null,
   "metadata": {},
   "outputs": [],
   "source": [
    "football[(football.Age < football.Age.mean())&\n",
    "         (football.Club == 'FC Barcelona')].Wage.mean()"
   ]
  },
  {
   "cell_type": "markdown",
   "metadata": {},
   "source": [
    "Здесь мы получили среднюю заработную плату за год футболистов с возрастом ниже среднего или из клуба FC Barcelona."
   ]
  },
  {
   "cell_type": "markdown",
   "metadata": {},
   "source": [
    "### Задание 1\n",
    "Какова средняя скорость (`SprintSpeed`) футболистов, зарплата (`Wage`) которых выше среднего? Ответ округлите до сотых."
   ]
  },
  {
   "cell_type": "code",
   "execution_count": null,
   "metadata": {},
   "outputs": [],
   "source": []
  },
  {
   "cell_type": "markdown",
   "metadata": {},
   "source": [
    "### Задание 2\n",
    "\n",
    "Какова средняя скорость (`SprintSpeed`) футболистов, зарплата (`Wage`) которых ниже среднего? Ответ округлите до сотых."
   ]
  },
  {
   "cell_type": "code",
   "execution_count": null,
   "metadata": {},
   "outputs": [],
   "source": []
  },
  {
   "cell_type": "markdown",
   "metadata": {},
   "source": [
    "### Задание 3\n",
    "\n",
    "Какую позицию (`Position`) занимает футболист с самой высокой зарплатой (`Wage`)?"
   ]
  },
  {
   "cell_type": "code",
   "execution_count": null,
   "metadata": {},
   "outputs": [],
   "source": []
  },
  {
   "cell_type": "markdown",
   "metadata": {},
   "source": [
    "### Задание 4\n",
    "\n",
    "Сколько пенальти (`Penalties`) забили бразильские (`Nationality, Brazil`) футболисты за период, данные о котором представлены в датасете?"
   ]
  },
  {
   "cell_type": "code",
   "execution_count": null,
   "metadata": {},
   "outputs": [],
   "source": []
  },
  {
   "cell_type": "markdown",
   "metadata": {},
   "source": [
    "### Задание 5\n",
    "\n",
    "Укажите средний возраст (`Age`) игроков, у которых точность удара головой `(HeadingAccuracy) > 50`. Ответ округлите до сотых."
   ]
  },
  {
   "cell_type": "code",
   "execution_count": null,
   "metadata": {},
   "outputs": [],
   "source": []
  },
  {
   "cell_type": "markdown",
   "metadata": {},
   "source": [
    "### Задание 6\n",
    "\n",
    "Укажите возраст (`Age`) самого молодого игрока, у которого хладнокровие (`Composure`) и реакция (`Reactions`) превышают 90% от максимального значения, представленного в датасете."
   ]
  },
  {
   "cell_type": "code",
   "execution_count": null,
   "metadata": {},
   "outputs": [],
   "source": []
  },
  {
   "cell_type": "markdown",
   "metadata": {},
   "source": [
    "### Задание 7\n",
    "\n",
    "Определите, насколько средняя реакция (`Reactions`) самых взрослых игроков (т.е. игроков, чей возраст (`Age`) равен максимальному) больше средней реакции самых молодых игроков. Ответ округлите до сотых."
   ]
  },
  {
   "cell_type": "code",
   "execution_count": null,
   "metadata": {},
   "outputs": [],
   "source": []
  },
  {
   "cell_type": "markdown",
   "metadata": {},
   "source": [
    "### Задание 8\n",
    "\n",
    "Из какой страны (`Nationality`) происходит больше всего игроков, чья стоимость (`Value`) превышает среднее значение?"
   ]
  },
  {
   "cell_type": "code",
   "execution_count": null,
   "metadata": {},
   "outputs": [],
   "source": []
  },
  {
   "cell_type": "markdown",
   "metadata": {},
   "source": [
    "### Задание 9\n",
    "\n",
    "Определите, во сколько раз средняя зарплата (`Wage`) голкипера (`Position, GK`) с максимальным значением показателя \"Рефлексы\" (`GKReflexes`) выше средней зарплаты голкипера с максимальным значением показателя \"Владение мячом\" (`GKHandling`). Ответ округлите до сотых."
   ]
  },
  {
   "cell_type": "code",
   "execution_count": null,
   "metadata": {},
   "outputs": [],
   "source": []
  },
  {
   "cell_type": "markdown",
   "metadata": {},
   "source": [
    "### Задание 10\n",
    "\n",
    "Определите, во сколько раз средняя сила удара (`ShotPower`) самых агрессивных игроков (игроков с максимальным значением показателя \"Агрессивность\" (`Aggression`)) выше силы удара игроков с минимальной агрессией. Ответ округлите до сотых."
   ]
  },
  {
   "cell_type": "code",
   "execution_count": null,
   "metadata": {},
   "outputs": [],
   "source": []
  }
 ],
 "metadata": {
  "kernelspec": {
   "display_name": "Python 3.8.5 64-bit",
   "language": "python",
   "name": "python3"
  },
  "language_info": {
   "codemirror_mode": {
    "name": "ipython",
    "version": 3
   },
   "file_extension": ".py",
   "mimetype": "text/x-python",
   "name": "python",
   "nbconvert_exporter": "python",
   "pygments_lexer": "ipython3",
   "version": "3.8.5"
  },
  "vscode": {
   "interpreter": {
    "hash": "54bcd20706014be78591816f36bd2584159a9944126a8c4be89c37c7e1998045"
   }
  }
 },
 "nbformat": 4,
 "nbformat_minor": 4
}
